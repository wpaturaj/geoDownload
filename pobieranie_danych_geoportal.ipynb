{
 "cells": [
  {
   "cell_type": "code",
   "execution_count": 1,
   "metadata": {},
   "outputs": [],
   "source": [
    "import pandas as pd\n",
    "import requests\n",
    "import logging\n",
    "import sys"
   ]
  },
  {
   "cell_type": "code",
   "execution_count": 2,
   "metadata": {},
   "outputs": [],
   "source": [
    "logging.basicConfig(stream=sys.stdout, level=logging.INFO)\n",
    "log = logging.getLogger(\"Pobieranie danych\")"
   ]
  },
  {
   "cell_type": "code",
   "execution_count": 3,
   "metadata": {},
   "outputs": [],
   "source": [
    "teryty=pd.read_csv('TERC_Urzedowy_2020-08-11.csv',error_bad_lines=False,sep=';')\n",
    "\n",
    "teryty=teryty[teryty.POW.isnull()==False]\n",
    "\n",
    "teryty.WOJ=teryty.WOJ.apply(int)\n",
    "teryty.WOJ=teryty.WOJ.apply(lambda x: '0'+str(x) if len(str(x))==1 else str(x))\n",
    "\n",
    "teryty.POW=teryty.POW.apply(int)\n",
    "teryty.POW=teryty.POW.apply(lambda x: '0'+str(x) if len(str(x))==1 else str(x))\n",
    "teryty['pow_ter']=teryty['WOJ']+teryty['POW']\n",
    "\n",
    "powiaty=list(teryty['pow_ter'].unique())"
   ]
  },
  {
   "cell_type": "code",
   "execution_count": 4,
   "metadata": {},
   "outputs": [
    {
     "name": "stdout",
     "output_type": "stream",
     "text": [
      "Lista powiatów w Polsce :['0201', '0202', '0203', '0204', '0205', '0206', '0207', '0208', '0209', '0210', '0211', '0212', '0213', '0214', '0215', '0216', '0217', '0218', '0219', '0220', '0221', '0222', '0223', '0224', '0225', '0226', '0261', '0262', '0264', '0265', '0401', '0402', '0403', '0404', '0405', '0406', '0407', '0408', '0409', '0410', '0411', '0412', '0413', '0414', '0415', '0416', '0417', '0418', '0419', '0461', '0462', '0463', '0464', '0601', '0602', '0603', '0604', '0605', '0606', '0607', '0608', '0609', '0610', '0611', '0612', '0613', '0614', '0615', '0616', '0617', '0618', '0619', '0620', '0661', '0662', '0663', '0664', '0801', '0802', '0803', '0804', '0805', '0806', '0807', '0808', '0809', '0810', '0811', '0812', '0861', '0862', '1001', '1002', '1003', '1004', '1005', '1006', '1007', '1008', '1009', '1010', '1011', '1012', '1013', '1014', '1015', '1016', '1017', '1018', '1019', '1020', '1021', '1061', '1062', '1063', '1201', '1202', '1203', '1204', '1205', '1206', '1207', '1208', '1209', '1210', '1211', '1212', '1213', '1214', '1215', '1216', '1217', '1218', '1219', '1261', '1262', '1263', '1401', '1402', '1403', '1404', '1405', '1406', '1407', '1408', '1409', '1410', '1411', '1412', '1413', '1414', '1415', '1416', '1417', '1418', '1419', '1420', '1421', '1422', '1423', '1424', '1425', '1426', '1427', '1428', '1429', '1430', '1432', '1433', '1434', '1435', '1436', '1437', '1438', '1461', '1462', '1463', '1464', '1465', '1601', '1602', '1603', '1604', '1605', '1606', '1607', '1608', '1609', '1610', '1611', '1661', '1801', '1802', '1803', '1804', '1805', '1806', '1807', '1808', '1809', '1810', '1811', '1812', '1813', '1814', '1815', '1816', '1817', '1818', '1819', '1820', '1821', '1861', '1862', '1863', '1864', '2001', '2002', '2003', '2004', '2005', '2006', '2007', '2008', '2009', '2010', '2011', '2012', '2013', '2014', '2061', '2062', '2063', '2201', '2202', '2203', '2204', '2205', '2206', '2207', '2208', '2209', '2210', '2211', '2212', '2213', '2214', '2215', '2216', '2261', '2262', '2263', '2264', '2401', '2402', '2403', '2404', '2405', '2406', '2407', '2408', '2409', '2410', '2411', '2412', '2413', '2414', '2415', '2416', '2417', '2461', '2462', '2463', '2464', '2465', '2466', '2467', '2468', '2469', '2470', '2471', '2472', '2473', '2474', '2475', '2476', '2477', '2478', '2479', '2601', '2602', '2603', '2604', '2605', '2606', '2607', '2608', '2609', '2610', '2611', '2612', '2613', '2661', '2801', '2802', '2803', '2804', '2805', '2806', '2807', '2808', '2809', '2810', '2811', '2812', '2813', '2814', '2815', '2816', '2817', '2818', '2819', '2861', '2862', '3001', '3002', '3003', '3004', '3005', '3006', '3007', '3008', '3009', '3010', '3011', '3012', '3013', '3014', '3015', '3016', '3017', '3018', '3019', '3020', '3021', '3022', '3023', '3024', '3025', '3026', '3027', '3028', '3029', '3030', '3031', '3061', '3062', '3063', '3064', '3201', '3202', '3203', '3204', '3205', '3206', '3207', '3208', '3209', '3210', '3211', '3212', '3213', '3214', '3215', '3216', '3217', '3218', '3261', '3262', '3263']\n"
     ]
    }
   ],
   "source": [
    "print(\"Lista powiatów w Polsce :{}\".format(powiaty), sep= ' ')"
   ]
  },
  {
   "cell_type": "code",
   "execution_count": 5,
   "metadata": {},
   "outputs": [],
   "source": [
    "for powiat in powiaty:\n",
    "    path_3d='https://integracja.gugik.gov.pl/Budynki3D/pobierz.php?d=2&plik=powiaty/lod1/{}_gml.zip'.format(powiat)\n",
    "    path_bdoot='https://integracja.gugik.gov.pl/PRG/pobierz.php?bdot10k&teryt={}'.format(powiat)\n",
    "    #3d\n",
    "    try:\n",
    "        response3d = requests.get(path_3d)\n",
    "        with open(path_3d.split('/')[-1], 'wb') as f:\n",
    "            f.write(response3d.content)\n",
    "    except Exception as e:\n",
    "        log.info(\"3d Blad dla kodu {}, blad :{}\".format(powiat,e))\n",
    "    #bdootk\n",
    "    try:\n",
    "        responseBdoot = requests.get(path_bdoot)\n",
    "        with open('bdoot_{}.zip'.format(powiat), 'wb') as f:\n",
    "            f.write(responseBdoot.content)\n",
    "    except Exception as e:\n",
    "        log.info(\"Bdoot Blad dla kodu {}, blad :{}\".format(powiat,e))"
   ]
  },
  {
   "cell_type": "code",
   "execution_count": 6,
   "metadata": {},
   "outputs": [
    {
     "name": "stdout",
     "output_type": "stream",
     "text": [
      "INFO:Pobieranie danych:Sukces\n"
     ]
    }
   ],
   "source": [
    "log.info(\"Sukces\")"
   ]
  }
 ],
 "metadata": {
  "kernelspec": {
   "display_name": "Python 3",
   "language": "python",
   "name": "python3"
  },
  "language_info": {
   "codemirror_mode": {
    "name": "ipython",
    "version": 3
   },
   "file_extension": ".py",
   "mimetype": "text/x-python",
   "name": "python",
   "nbconvert_exporter": "python",
   "pygments_lexer": "ipython3",
   "version": "3.6.8"
  }
 },
 "nbformat": 4,
 "nbformat_minor": 2
}
